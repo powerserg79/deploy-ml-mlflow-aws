{
 "cells": [
  {
   "cell_type": "code",
   "execution_count": 4,
   "metadata": {},
   "outputs": [],
   "source": [
    "import subprocess"
   ]
  },
  {
   "attachments": {},
   "cell_type": "markdown",
   "metadata": {},
   "source": [
    "## This will push MLFlow metrics to an S3 bucket"
   ]
  },
  {
   "cell_type": "code",
   "execution_count": 6,
   "metadata": {},
   "outputs": [
    {
     "data": {
      "text/plain": [
       "'s3://deploy-ml-mlflow-aws/mlruns'"
      ]
     },
     "execution_count": 6,
     "metadata": {},
     "output_type": "execute_result"
    }
   ],
   "source": [
    "s3_bucket_name = \"deploy-ml-mlflow-aws\"\n",
    "mlruns_directory = \"mlruns\"\n",
    "s3_path = f\"s3://{s3_bucket_name}/{mlruns_directory}\"\n",
    "s3_path\n"
   ]
  },
  {
   "cell_type": "code",
   "execution_count": null,
   "metadata": {},
   "outputs": [],
   "source": [
    "output = subprocess.run([\"aws\", \"s3\", \"sync\", \"./{mlruns_directory}/\", s3_path], stdout=subprocess.PIPE,encoding='utf-8')\n",
    "print(output.stdout)\n",
    "print(\"\\nSaved to bucket: \", s3_bucket_name)"
   ]
  }
 ],
 "metadata": {
  "kernelspec": {
   "display_name": "cenv_deploy-ml-mlflow-aws",
   "language": "python",
   "name": "python3"
  },
  "language_info": {
   "codemirror_mode": {
    "name": "ipython",
    "version": 3
   },
   "file_extension": ".py",
   "mimetype": "text/x-python",
   "name": "python",
   "nbconvert_exporter": "python",
   "pygments_lexer": "ipython3",
   "version": "3.10.9"
  },
  "orig_nbformat": 4,
  "vscode": {
   "interpreter": {
    "hash": "0d88461357586b79891e7e0690ceac100d0a497180035b5515070ba7768f84c7"
   }
  }
 },
 "nbformat": 4,
 "nbformat_minor": 2
}
